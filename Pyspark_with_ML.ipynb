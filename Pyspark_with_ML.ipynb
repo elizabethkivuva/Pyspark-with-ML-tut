{
  "nbformat": 4,
  "nbformat_minor": 0,
  "metadata": {
    "colab": {
      "provenance": []
    },
    "kernelspec": {
      "name": "python3",
      "display_name": "Python 3"
    },
    "language_info": {
      "name": "python"
    }
  },
  "cells": [
    {
      "cell_type": "code",
      "execution_count": null,
      "metadata": {
        "colab": {
          "base_uri": "https://localhost:8080/"
        },
        "id": "vowd0arD4YSO",
        "outputId": "fbe5fe33-16b3-4ed1-b101-29f8382b3b97"
      },
      "outputs": [
        {
          "output_type": "stream",
          "name": "stdout",
          "text": [
            "Collecting pyspark\n",
            "  Downloading pyspark-3.5.1.tar.gz (317.0 MB)\n",
            "\u001b[2K     \u001b[90m━━━━━━━━━━━━━━━━━━━━━━━━━━━━━━━━━━━━━━━━\u001b[0m \u001b[32m317.0/317.0 MB\u001b[0m \u001b[31m4.1 MB/s\u001b[0m eta \u001b[36m0:00:00\u001b[0m\n",
            "\u001b[?25h  Preparing metadata (setup.py) ... \u001b[?25l\u001b[?25hdone\n",
            "Requirement already satisfied: py4j==0.10.9.7 in /usr/local/lib/python3.10/dist-packages (from pyspark) (0.10.9.7)\n",
            "Building wheels for collected packages: pyspark\n",
            "  Building wheel for pyspark (setup.py) ... \u001b[?25l\u001b[?25hdone\n",
            "  Created wheel for pyspark: filename=pyspark-3.5.1-py2.py3-none-any.whl size=317488491 sha256=fe08482bee86774450a87e8cd74c1dca542354653e59b8491b4fb42de838a132\n",
            "  Stored in directory: /root/.cache/pip/wheels/80/1d/60/2c256ed38dddce2fdd93be545214a63e02fbd8d74fb0b7f3a6\n",
            "Successfully built pyspark\n",
            "Installing collected packages: pyspark\n",
            "Successfully installed pyspark-3.5.1\n"
          ]
        }
      ],
      "source": [
        "pip install pyspark"
      ]
    },
    {
      "cell_type": "code",
      "source": [
        "#create a pyspark session\n",
        "\n",
        "from pyspark.sql import SparkSession\n",
        "\n",
        "spark = SparkSession.builder.getOrCreate()"
      ],
      "metadata": {
        "id": "slubHrOa5U-e"
      },
      "execution_count": null,
      "outputs": []
    },
    {
      "cell_type": "code",
      "source": [
        "#data import\n",
        "\n",
        "df=spark.read.csv('/content/sample_data/california_housing_train.csv', header=True)\n",
        "df.show()"
      ],
      "metadata": {
        "colab": {
          "base_uri": "https://localhost:8080/"
        },
        "id": "8_PmswPS6Ehw",
        "outputId": "df2ce0e1-63f6-4f10-9b44-cae413a8e4a8"
      },
      "execution_count": null,
      "outputs": [
        {
          "output_type": "stream",
          "name": "stdout",
          "text": [
            "+-----------+---------+------------------+-----------+--------------+-----------+-----------+-------------+------------------+\n",
            "|  longitude| latitude|housing_median_age|total_rooms|total_bedrooms| population| households|median_income|median_house_value|\n",
            "+-----------+---------+------------------+-----------+--------------+-----------+-----------+-------------+------------------+\n",
            "|-114.310000|34.190000|         15.000000|5612.000000|   1283.000000|1015.000000| 472.000000|     1.493600|      66900.000000|\n",
            "|-114.470000|34.400000|         19.000000|7650.000000|   1901.000000|1129.000000| 463.000000|     1.820000|      80100.000000|\n",
            "|-114.560000|33.690000|         17.000000| 720.000000|    174.000000| 333.000000| 117.000000|     1.650900|      85700.000000|\n",
            "|-114.570000|33.640000|         14.000000|1501.000000|    337.000000| 515.000000| 226.000000|     3.191700|      73400.000000|\n",
            "|-114.570000|33.570000|         20.000000|1454.000000|    326.000000| 624.000000| 262.000000|     1.925000|      65500.000000|\n",
            "|-114.580000|33.630000|         29.000000|1387.000000|    236.000000| 671.000000| 239.000000|     3.343800|      74000.000000|\n",
            "|-114.580000|33.610000|         25.000000|2907.000000|    680.000000|1841.000000| 633.000000|     2.676800|      82400.000000|\n",
            "|-114.590000|34.830000|         41.000000| 812.000000|    168.000000| 375.000000| 158.000000|     1.708300|      48500.000000|\n",
            "|-114.590000|33.610000|         34.000000|4789.000000|   1175.000000|3134.000000|1056.000000|     2.178200|      58400.000000|\n",
            "|-114.600000|34.830000|         46.000000|1497.000000|    309.000000| 787.000000| 271.000000|     2.190800|      48100.000000|\n",
            "|-114.600000|33.620000|         16.000000|3741.000000|    801.000000|2434.000000| 824.000000|     2.679700|      86500.000000|\n",
            "|-114.600000|33.600000|         21.000000|1988.000000|    483.000000|1182.000000| 437.000000|     1.625000|      62000.000000|\n",
            "|-114.610000|34.840000|         48.000000|1291.000000|    248.000000| 580.000000| 211.000000|     2.157100|      48600.000000|\n",
            "|-114.610000|34.830000|         31.000000|2478.000000|    464.000000|1346.000000| 479.000000|     3.212000|      70400.000000|\n",
            "|-114.630000|32.760000|         15.000000|1448.000000|    378.000000| 949.000000| 300.000000|     0.858500|      45000.000000|\n",
            "|-114.650000|34.890000|         17.000000|2556.000000|    587.000000|1005.000000| 401.000000|     1.699100|      69100.000000|\n",
            "|-114.650000|33.600000|         28.000000|1678.000000|    322.000000| 666.000000| 256.000000|     2.965300|      94900.000000|\n",
            "|-114.650000|32.790000|         21.000000|  44.000000|     33.000000|  64.000000|  27.000000|     0.857100|      25000.000000|\n",
            "|-114.660000|32.740000|         17.000000|1388.000000|    386.000000| 775.000000| 320.000000|     1.204900|      44000.000000|\n",
            "|-114.670000|33.920000|         17.000000|  97.000000|     24.000000|  29.000000|  15.000000|     1.265600|      27500.000000|\n",
            "+-----------+---------+------------------+-----------+--------------+-----------+-----------+-------------+------------------+\n",
            "only showing top 20 rows\n",
            "\n"
          ]
        }
      ]
    },
    {
      "cell_type": "code",
      "source": [
        "#create a temporary sql view\n",
        "\n",
        "df.createOrReplaceTempView('housing')"
      ],
      "metadata": {
        "id": "PpasPAkV7Id2"
      },
      "execution_count": null,
      "outputs": []
    },
    {
      "cell_type": "code",
      "source": [
        "# how to query data\n",
        "# option 1\n",
        "# query = \"\"\"\"\n",
        "# type in your query\n",
        "# \"\"\"\n",
        "# spark.sql(query).show()\n",
        "# option 2\n",
        "# spark.sql(\"type sql query inside the code\").show()"
      ],
      "metadata": {
        "id": "s6hZsrMA7ptj"
      },
      "execution_count": null,
      "outputs": []
    },
    {
      "cell_type": "code",
      "source": [
        "# option 2\n",
        "\n",
        "spark.sql(\"select * from housing limit 3\").show()"
      ],
      "metadata": {
        "colab": {
          "base_uri": "https://localhost:8080/"
        },
        "id": "rQrL2b6S8UvX",
        "outputId": "b824c2cd-ed4b-4921-fed4-e137f7246067"
      },
      "execution_count": null,
      "outputs": [
        {
          "output_type": "stream",
          "name": "stdout",
          "text": [
            "+-----------+---------+------------------+-----------+--------------+-----------+----------+-------------+------------------+\n",
            "|  longitude| latitude|housing_median_age|total_rooms|total_bedrooms| population|households|median_income|median_house_value|\n",
            "+-----------+---------+------------------+-----------+--------------+-----------+----------+-------------+------------------+\n",
            "|-114.310000|34.190000|         15.000000|5612.000000|   1283.000000|1015.000000|472.000000|     1.493600|      66900.000000|\n",
            "|-114.470000|34.400000|         19.000000|7650.000000|   1901.000000|1129.000000|463.000000|     1.820000|      80100.000000|\n",
            "|-114.560000|33.690000|         17.000000| 720.000000|    174.000000| 333.000000|117.000000|     1.650900|      85700.000000|\n",
            "+-----------+---------+------------------+-----------+--------------+-----------+----------+-------------+------------------+\n",
            "\n"
          ]
        }
      ]
    },
    {
      "cell_type": "code",
      "source": [
        "# Option 1\n",
        "\n",
        "query = \"\"\"\n",
        "SELECT total_rooms + total_bedrooms as total_rooms_bedrooms,\n",
        "population,\n",
        "population/households as population_per_household,\n",
        "median_income,\n",
        "median_house_value\n",
        "FROM housing\n",
        "\"\"\"\n",
        "\n",
        "spark.sql(query).show()"
      ],
      "metadata": {
        "colab": {
          "base_uri": "https://localhost:8080/"
        },
        "id": "ioDbir-_95ep",
        "outputId": "5e6de632-fe50-4196-aa4a-67408c436e65"
      },
      "execution_count": null,
      "outputs": [
        {
          "output_type": "stream",
          "name": "stdout",
          "text": [
            "+--------------------+-----------+------------------------+-------------+------------------+\n",
            "|total_rooms_bedrooms| population|population_per_household|median_income|median_house_value|\n",
            "+--------------------+-----------+------------------------+-------------+------------------+\n",
            "|              6895.0|1015.000000|      2.1504237288135593|     1.493600|      66900.000000|\n",
            "|              9551.0|1129.000000|      2.4384449244060473|     1.820000|      80100.000000|\n",
            "|               894.0| 333.000000|      2.8461538461538463|     1.650900|      85700.000000|\n",
            "|              1838.0| 515.000000|      2.2787610619469025|     3.191700|      73400.000000|\n",
            "|              1780.0| 624.000000|       2.381679389312977|     1.925000|      65500.000000|\n",
            "|              1623.0| 671.000000|       2.807531380753138|     3.343800|      74000.000000|\n",
            "|              3587.0|1841.000000|      2.9083728278041074|     2.676800|      82400.000000|\n",
            "|               980.0| 375.000000|      2.3734177215189876|     1.708300|      48500.000000|\n",
            "|              5964.0|3134.000000|      2.9678030303030303|     2.178200|      58400.000000|\n",
            "|              1806.0| 787.000000|       2.904059040590406|     2.190800|      48100.000000|\n",
            "|              4542.0|2434.000000|       2.953883495145631|     2.679700|      86500.000000|\n",
            "|              2471.0|1182.000000|      2.7048054919908466|     1.625000|      62000.000000|\n",
            "|              1539.0| 580.000000|       2.748815165876777|     2.157100|      48600.000000|\n",
            "|              2942.0|1346.000000|      2.8100208768267225|     3.212000|      70400.000000|\n",
            "|              1826.0| 949.000000|      3.1633333333333336|     0.858500|      45000.000000|\n",
            "|              3143.0|1005.000000|       2.506234413965087|     1.699100|      69100.000000|\n",
            "|              2000.0| 666.000000|               2.6015625|     2.965300|      94900.000000|\n",
            "|                77.0|  64.000000|      2.3703703703703702|     0.857100|      25000.000000|\n",
            "|              1774.0| 775.000000|                2.421875|     1.204900|      44000.000000|\n",
            "|               121.0|  29.000000|      1.9333333333333333|     1.265600|      27500.000000|\n",
            "+--------------------+-----------+------------------------+-------------+------------------+\n",
            "only showing top 20 rows\n",
            "\n"
          ]
        }
      ]
    },
    {
      "cell_type": "code",
      "source": [
        "#prompt: plot the distribution of the  population column from the housing view\n",
        "\n",
        "spark.sql(\"SELECT population FROM housing\").describe().show()"
      ],
      "metadata": {
        "colab": {
          "base_uri": "https://localhost:8080/"
        },
        "id": "B44NKrK2_66f",
        "outputId": "9d0ca01f-bcb4-4beb-e8ca-db6bee446da1"
      },
      "execution_count": null,
      "outputs": [
        {
          "output_type": "stream",
          "name": "stdout",
          "text": [
            "+-------+------------------+\n",
            "|summary|        population|\n",
            "+-------+------------------+\n",
            "|  count|             17000|\n",
            "|   mean|1429.5739411764705|\n",
            "| stddev| 1147.852959159527|\n",
            "|    min|        100.000000|\n",
            "|    max|        999.000000|\n",
            "+-------+------------------+\n",
            "\n"
          ]
        }
      ]
    },
    {
      "cell_type": "code",
      "source": [
        "# Create a pandas dataframe from the Spark DataFrame\n",
        "pandas_df = spark.sql(\"SELECT population FROM housing\").toPandas()\n",
        "\n",
        "# Plot the data using matplotlib\n",
        "import matplotlib.pyplot as plt\n",
        "\n",
        "plt.hist(pandas_df['population'], bins=10)\n",
        "plt.xlabel('Population')\n",
        "plt.ylabel('Frequency')\n",
        "plt.title('Distribution of Population')\n",
        "plt.show()"
      ],
      "metadata": {
        "colab": {
          "base_uri": "https://localhost:8080/",
          "height": 472
        },
        "id": "qDc-fWcd9ab3",
        "outputId": "d17fe37b-fb47-4710-ecc8-739de87de57f"
      },
      "execution_count": null,
      "outputs": [
        {
          "output_type": "display_data",
          "data": {
            "text/plain": [
              "<Figure size 640x480 with 1 Axes>"
            ],
            "image/png": "[encoded data removed]"
          },
          "metadata": {}
        }
      ]
    },
    {
      "cell_type": "markdown",
      "source": [
        "Machine Learning"
      ],
      "metadata": {
        "id": "byGA-IeyKcjz"
      }
    },
    {
      "cell_type": "markdown",
      "source": [
        "https://colab.research.google.com/corgiredirector?site=https%3A%2F%2Fspark.apache.org%2Fdocs%2Flatest%2Fmllib-linear-methods.html"
      ],
      "metadata": {
        "id": "qloPGOe8Lfan"
      }
    },
    {
      "cell_type": "code",
      "source": [
        "# importing ML library\n",
        "from pyspark.ml.classification import LogisticRegression\n",
        "\n",
        "# select our data columns\n",
        "import pyspark.sql.functions as f\n",
        "\n",
        "data = df.select(f.col('housing_median_age').cast('float').alias('f1'),\n",
        "          f.col('total_rooms').cast('float').alias('f2'),\n",
        "          f.col('median_house_value').cast('float').alias('label'))"
      ],
      "metadata": {
        "id": "Ywnrc98eOlDP"
      },
      "execution_count": null,
      "outputs": []
    },
    {
      "cell_type": "code",
      "source": [
        "# select our data columns\n",
        "import pyspark.sql.functions as f\n",
        "\n",
        "data = df.select(f.col('housing_median_age').cast('float').alias('f1'),\n",
        "          f.col('total_rooms').cast('float').alias('f2'),\n",
        "          f.col('median_house_value').cast('float').alias('label'))\n",
        "\n",
        "# create a features vector\n",
        "from pyspark.ml.feature import VectorAssembler\n",
        "\n",
        "assembler = VectorAssembler(inputCols=['f1', 'f2'], outputCol='features')\n",
        "training = assembler.transform(data)\n",
        "training.show()"
      ],
      "metadata": {
        "colab": {
          "base_uri": "https://localhost:8080/"
        },
        "id": "PhbvRclZMADj",
        "outputId": "d03d4fda-b690-4a96-cb51-29f1dd75383f"
      },
      "execution_count": null,
      "outputs": [
        {
          "output_type": "stream",
          "name": "stdout",
          "text": [
            "+----+------+-------+-------------+\n",
            "|  f1|    f2|  label|     features|\n",
            "+----+------+-------+-------------+\n",
            "|15.0|5612.0|66900.0|[15.0,5612.0]|\n",
            "|19.0|7650.0|80100.0|[19.0,7650.0]|\n",
            "|17.0| 720.0|85700.0| [17.0,720.0]|\n",
            "|14.0|1501.0|73400.0|[14.0,1501.0]|\n",
            "|20.0|1454.0|65500.0|[20.0,1454.0]|\n",
            "|29.0|1387.0|74000.0|[29.0,1387.0]|\n",
            "|25.0|2907.0|82400.0|[25.0,2907.0]|\n",
            "|41.0| 812.0|48500.0| [41.0,812.0]|\n",
            "|34.0|4789.0|58400.0|[34.0,4789.0]|\n",
            "|46.0|1497.0|48100.0|[46.0,1497.0]|\n",
            "|16.0|3741.0|86500.0|[16.0,3741.0]|\n",
            "|21.0|1988.0|62000.0|[21.0,1988.0]|\n",
            "|48.0|1291.0|48600.0|[48.0,1291.0]|\n",
            "|31.0|2478.0|70400.0|[31.0,2478.0]|\n",
            "|15.0|1448.0|45000.0|[15.0,1448.0]|\n",
            "|17.0|2556.0|69100.0|[17.0,2556.0]|\n",
            "|28.0|1678.0|94900.0|[28.0,1678.0]|\n",
            "|21.0|  44.0|25000.0|  [21.0,44.0]|\n",
            "|17.0|1388.0|44000.0|[17.0,1388.0]|\n",
            "|17.0|  97.0|27500.0|  [17.0,97.0]|\n",
            "+----+------+-------+-------------+\n",
            "only showing top 20 rows\n",
            "\n"
          ]
        }
      ]
    },
    {
      "cell_type": "code",
      "source": [
        "from pyspark.ml.regression import LinearRegression\n",
        "\n",
        "lr = LinearRegression(maxIter=10, regParam=0.3, elasticNetParam=0.8)\n",
        "\n",
        "# Fit the model\n",
        "lrModel = lr.fit(training)\n",
        "\n",
        "# Print the coefficients and intercept for linear regression\n",
        "print(\"Coefficients: %s\" % str(lrModel.coefficients)) # y = m1x1+...+mnxn+c\n",
        "print(\"Intercept: %s\" % str(lrModel.intercept)) #\n",
        "\n",
        "# Summarize the model over the training set and print out some metrics\n",
        "trainingSummary = lrModel.summary\n",
        "print(\"numIterations: %d\" % trainingSummary.totalIterations)\n",
        "print(\"objectiveHistory: %s\" % str(trainingSummary.objectiveHistory))\n",
        "trainingSummary.residuals.show()\n",
        "print(\"RMSE: %f\" % trainingSummary.rootMeanSquaredError)\n",
        "print(\"r2: %f\" % trainingSummary.r2)"
      ],
      "metadata": {
        "colab": {
          "base_uri": "https://localhost:8080/"
        },
        "id": "S5IGmievNAhI",
        "outputId": "6ca06119-60f9-4b61-89ed-4bcb7a3fdb58"
      },
      "execution_count": null,
      "outputs": [
        {
          "output_type": "stream",
          "name": "stdout",
          "text": [
            "Coefficients: [1632.1034373657426,10.371075448575159]\n",
            "Intercept: 133222.48807045983\n",
            "numIterations: 7\n",
            "objectiveHistory: [0.5, 0.49235905772267236, 0.48139040339518446, 0.4786458677558125, 0.47784680935123297, 0.4777895943721478, 0.47777895600016845, 0.4777789559997597]\n",
            "+-------------------+\n",
            "|          residuals|\n",
            "+-------------------+\n",
            "|-149006.51504834974|\n",
            "| -163471.1805620089|\n",
            "| -82735.42082865158|\n",
            "| -98238.92044189153|\n",
            "|-115444.10052000295|\n",
            "|-120938.16940124013|\n",
            "|-121773.79033361137|\n",
            "|-160060.04226669832|\n",
            "|-179981.08526412153|\n",
            "|-175724.74613580102|\n",
            "|-111634.33632143139|\n",
            "|-126114.35824690785|\n",
            "|-176352.51146812603|\n",
            "| -139117.2195903671|\n",
            "|-127721.35688048281|\n",
            "|-118376.71535223557|\n",
            "|-101424.04891940975|\n",
            "|-142952.98757487774|\n",
            "|-131363.29922829976|\n",
            "|-134474.24082418924|\n",
            "+-------------------+\n",
            "only showing top 20 rows\n",
            "\n",
            "RMSE: 113373.766439\n",
            "r2: 0.044444\n"
          ]
        }
      ]
    },
    {
      "cell_type": "code",
      "source": [
        "from pyspark.ml.classification import LogisticRegression\n",
        "\n",
        "# Extract the summary from the returned LogisticRegressionModel instance trained\n",
        "# in the earlier example\n",
        "\n",
        "trainingSummary = lrModel.summary\n",
        "\n",
        "# Obtain the objective per iteration\n",
        "objectiveHistory = trainingSummary.objectiveHistory\n",
        "print(\"objectiveHistory:\")\n",
        "for objective in objectiveHistory:\n",
        "    print(objective)\n",
        "\n",
        "# Obtain the receiver-operating characteristic as a dataframe and areaUnderROC.\n",
        "trainingSummary.roc.show()\n",
        "print(\"areaUnderROC: \" + str(trainingSummary.areaUnderROC))\n",
        "\n",
        "# Set the model threshold to maximize F-Measure\n",
        "fMeasure = trainingSummary.fMeasureByThreshold\n",
        "maxFMeasure = fMeasure.groupBy().max('F-Measure').select('max(F-Measure)').head()\n",
        "bestThreshold = fMeasure.where(fMeasure['F-Measure'] == maxFMeasure['max(F-Measure)']) \\\n",
        "    .select('threshold').head()['threshold']\n",
        "\n",
        "lr.setThreshold(bestThreshold)"
      ],
      "metadata": {
        "id": "yE1WNoVwPCEl",
        "outputId": "4cfbdf68-fe40-433c-ac62-bb16af5a2f27",
        "colab": {
          "base_uri": "https://localhost:8080/",
          "height": 367
        }
      },
      "execution_count": null,
      "outputs": [
        {
          "output_type": "stream",
          "name": "stdout",
          "text": [
            "objectiveHistory:\n",
            "0.5\n",
            "0.49235905772267236\n",
            "0.48139040339518446\n",
            "0.4786458677558125\n",
            "0.47784680935123297\n",
            "0.4777895943721478\n",
            "0.47777895600016845\n",
            "0.4777789559997597\n"
          ]
        },
        {
          "output_type": "error",
          "ename": "AttributeError",
          "evalue": "'LinearRegressionTrainingSummary' object has no attribute 'roc'",
          "traceback": [
            "\u001b[0;31m---------------------------------------------------------------------------\u001b[0m",
            "\u001b[0;31mAttributeError\u001b[0m                            Traceback (most recent call last)",
            "\u001b[0;32m<ipython-input-16-733b21a36cc0>\u001b[0m in \u001b[0;36m<cell line: 15>\u001b[0;34m()\u001b[0m\n\u001b[1;32m     13\u001b[0m \u001b[0;34m\u001b[0m\u001b[0m\n\u001b[1;32m     14\u001b[0m \u001b[0;31m# Obtain the receiver-operating characteristic as a dataframe and areaUnderROC.\u001b[0m\u001b[0;34m\u001b[0m\u001b[0;34m\u001b[0m\u001b[0m\n\u001b[0;32m---> 15\u001b[0;31m \u001b[0mtrainingSummary\u001b[0m\u001b[0;34m.\u001b[0m\u001b[0mroc\u001b[0m\u001b[0;34m.\u001b[0m\u001b[0mshow\u001b[0m\u001b[0;34m(\u001b[0m\u001b[0;34m)\u001b[0m\u001b[0;34m\u001b[0m\u001b[0;34m\u001b[0m\u001b[0m\n\u001b[0m\u001b[1;32m     16\u001b[0m \u001b[0mprint\u001b[0m\u001b[0;34m(\u001b[0m\u001b[0;34m\"areaUnderROC: \"\u001b[0m \u001b[0;34m+\u001b[0m \u001b[0mstr\u001b[0m\u001b[0;34m(\u001b[0m\u001b[0mtrainingSummary\u001b[0m\u001b[0;34m.\u001b[0m\u001b[0mareaUnderROC\u001b[0m\u001b[0;34m)\u001b[0m\u001b[0;34m)\u001b[0m\u001b[0;34m\u001b[0m\u001b[0;34m\u001b[0m\u001b[0m\n\u001b[1;32m     17\u001b[0m \u001b[0;34m\u001b[0m\u001b[0m\n",
            "\u001b[0;31mAttributeError\u001b[0m: 'LinearRegressionTrainingSummary' object has no attribute 'roc'"
          ]
        }
      ]
    }
  ]
}